{
 "cells": [
  {
   "cell_type": "code",
   "execution_count": 1,
   "id": "337ec702-2e5d-41ef-892a-84a00790d994",
   "metadata": {},
   "outputs": [
    {
     "name": "stderr",
     "output_type": "stream",
     "text": [
      "2023-12-16 12:55:23.973431: I tensorflow/core/util/port.cc:110] oneDNN custom operations are on. You may see slightly different numerical results due to floating-point round-off errors from different computation orders. To turn them off, set the environment variable `TF_ENABLE_ONEDNN_OPTS=0`.\n",
      "2023-12-16 12:55:23.974939: I tensorflow/tsl/cuda/cudart_stub.cc:28] Could not find cuda drivers on your machine, GPU will not be used.\n",
      "2023-12-16 12:55:24.006013: I tensorflow/core/platform/cpu_feature_guard.cc:182] This TensorFlow binary is optimized to use available CPU instructions in performance-critical operations.\n",
      "To enable the following instructions: AVX2 AVX512F AVX512_VNNI FMA, in other operations, rebuild TensorFlow with the appropriate compiler flags.\n",
      "2023-12-16 12:55:24.572522: W tensorflow/compiler/tf2tensorrt/utils/py_utils.cc:38] TF-TRT Warning: Could not find TensorRT\n",
      "/home/marmik/anaconda3/envs/global/lib/python3.8/site-packages/scipy/__init__.py:146: UserWarning: A NumPy version >=1.16.5 and <1.23.0 is required for this version of SciPy (detected version 1.24.3\n",
      "  warnings.warn(f\"A NumPy version >={np_minversion} and <{np_maxversion}\"\n"
     ]
    }
   ],
   "source": [
    "import predict_pipeline\n",
    "import metrics\n",
    "import os"
   ]
  },
  {
   "cell_type": "code",
   "execution_count": null,
   "id": "631ae307-562c-4223-8942-a0124ede7124",
   "metadata": {},
   "outputs": [],
   "source": [
    "model_paths = {\n",
    "    'fabric': 'clothes-models/clothes-fabric-detection',\n",
    "    'color': 'clothes-models/color-detection',\n",
    "    'pattern': 'clothes-models/clothes-patterns-detection',\n",
    "    'sleevelength': 'clothes-models/sleeve-length'\n",
    "}"
   ]
  },
  {
   "cell_type": "code",
   "execution_count": 2,
   "id": "7a2f3761-7d1c-45d2-8eab-a6e13cd729d1",
   "metadata": {},
   "outputs": [],
   "source": [
    "image_dir_path = \"/home/marmik/Desktop/color/test\""
   ]
  },
  {
   "cell_type": "code",
   "execution_count": 3,
   "id": "5432e49d-df80-4dcf-8f2e-1f02d99e48d1",
   "metadata": {},
   "outputs": [],
   "source": [
    "def get_files_and_label(path):\n",
    "    files_list = []\n",
    "    labels = []\n",
    "    for path, subdirs, files in os.walk(path):\n",
    "        for name in files:\n",
    "            files_list.append(os.path.join(path, name))\n",
    "            labels.append(os.path.join(path, name).split(\"/\")[-2])\n",
    "    return files_list, labels"
   ]
  },
  {
   "cell_type": "code",
   "execution_count": 4,
   "id": "e30b64d0-39d4-4895-98af-c251c0f05e7b",
   "metadata": {},
   "outputs": [],
   "source": [
    "files_list, labels = get_files_and_label(image_dir_path)"
   ]
  },
  {
   "cell_type": "code",
   "execution_count": 5,
   "id": "73a17962-78d8-489b-a6d7-0fea6f10749c",
   "metadata": {},
   "outputs": [
    {
     "name": "stderr",
     "output_type": "stream",
     "text": [
      "All PyTorch model weights were used when initializing TFViTForImageClassification.\n",
      "\n",
      "All the weights of TFViTForImageClassification were initialized from the PyTorch model.\n",
      "If your task is similar to the task the model of the checkpoint was trained on, you can already use TFViTForImageClassification for predictions without further training.\n"
     ]
    }
   ],
   "source": [
    "pipeline = predict_pipeline.get_pipeline('color', model_paths) # Model name should be fabric, pattern, color and sleevelength"
   ]
  },
  {
   "cell_type": "code",
   "execution_count": 6,
   "id": "3dd60491-6307-43cf-a1a9-be5c7b055ad4",
   "metadata": {},
   "outputs": [
    {
     "name": "stderr",
     "output_type": "stream",
     "text": [
      "Predicting Labels: 100%|██████████████████████████████████████████████████████████████████████████████████████████████████████████████████████████████████████████████████████████████████████| 173/173 [01:08<00:00,  2.52it/s]\n"
     ]
    }
   ],
   "source": [
    "preds, true_labels, accuracy, precision, recall, f1 = metrics.get_predictions_and_metrics(files_list, labels, pipeline)"
   ]
  },
  {
   "cell_type": "code",
   "execution_count": 8,
   "id": "fa92a087-120d-462f-ba18-7411307fc035",
   "metadata": {},
   "outputs": [
    {
     "data": {
      "text/plain": [
       "0.9421965317919075"
      ]
     },
     "execution_count": 8,
     "metadata": {},
     "output_type": "execute_result"
    }
   ],
   "source": [
    "accuracy"
   ]
  },
  {
   "cell_type": "code",
   "execution_count": 9,
   "id": "cee0bf7f-3ce8-46db-bc6a-7668163f29be",
   "metadata": {},
   "outputs": [
    {
     "data": {
      "text/plain": [
       "0.9480538651478425"
      ]
     },
     "execution_count": 9,
     "metadata": {},
     "output_type": "execute_result"
    }
   ],
   "source": [
    "precision"
   ]
  },
  {
   "cell_type": "code",
   "execution_count": 10,
   "id": "3484c0a3-3063-495a-a8fe-9fa34c87676c",
   "metadata": {},
   "outputs": [
    {
     "data": {
      "text/plain": [
       "0.9421965317919075"
      ]
     },
     "execution_count": 10,
     "metadata": {},
     "output_type": "execute_result"
    }
   ],
   "source": [
    "recall"
   ]
  },
  {
   "cell_type": "code",
   "execution_count": 11,
   "id": "e6d44212-8226-4c2b-a38b-2733e9a49810",
   "metadata": {},
   "outputs": [
    {
     "data": {
      "text/plain": [
       "0.9407495882582422"
      ]
     },
     "execution_count": 11,
     "metadata": {},
     "output_type": "execute_result"
    }
   ],
   "source": [
    "f1"
   ]
  },
  {
   "cell_type": "code",
   "execution_count": null,
   "id": "6074f1bb-74d4-4979-be8b-42d386f3c8fc",
   "metadata": {},
   "outputs": [],
   "source": []
  }
 ],
 "metadata": {
  "kernelspec": {
   "display_name": "Python 3 (ipykernel)",
   "language": "python",
   "name": "python3"
  },
  "language_info": {
   "codemirror_mode": {
    "name": "ipython",
    "version": 3
   },
   "file_extension": ".py",
   "mimetype": "text/x-python",
   "name": "python",
   "nbconvert_exporter": "python",
   "pygments_lexer": "ipython3",
   "version": "3.8.16"
  }
 },
 "nbformat": 4,
 "nbformat_minor": 5
}
