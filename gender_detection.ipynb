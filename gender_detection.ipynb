{
 "cells": [
  {
   "cell_type": "code",
   "execution_count": 51,
   "id": "6a2aeb08-b916-4b02-bb56-e176b443cb81",
   "metadata": {},
   "outputs": [],
   "source": [
    "from transformers import AutoImageProcessor, ViTForImageClassification\n",
    "from PIL import Image\n",
    "import requests\n",
    "import torch\n",
    "import csv\n",
    "import os\n",
    "\n",
    "processor = AutoImageProcessor.from_pretrained('touchtech/fashion-images-gender-age')\n",
    "model = ViTForImageClassification.from_pretrained('touchtech/fashion-images-gender-age')"
   ]
  },
  {
   "cell_type": "code",
   "execution_count": 52,
   "id": "8ee2a30f-0fd3-4ef8-a3ec-801dd55534e1",
   "metadata": {},
   "outputs": [],
   "source": [
    "labels = model.config.id2label\n",
    "def predict_gender(file):\n",
    "    image = Image.open(file)\n",
    "    inputs = processor(images=image, return_tensors=\"pt\")\n",
    "    outputs = model(**inputs)\n",
    "    predicted_label_index = torch.argmax(outputs.logits, dim=1).item()\n",
    "    predicted_label = labels[predicted_label_index]\n",
    "    gender_map = {\n",
    "        \"model-female-adult\": \"female\",\n",
    "    \"model-female-child\": \"female\",\n",
    "    \"model-male-adult\": \"male\",\n",
    "    \"model-male-child\": \"male\",\n",
    "    \"pack\": \"uncertain\"\n",
    "    }\n",
    "    return gender_map[predicted_label]"
   ]
  },
  {
   "cell_type": "code",
   "execution_count": 55,
   "id": "be149c6c-c046-43f9-b799-1c3eed731543",
   "metadata": {},
   "outputs": [],
   "source": [
    "dir_path = \"/home/marmik/Desktop/fabric/fabric-dataset/val/cotton\"\n",
    "fp = open(\"gender_prediction.csv\", \"w\")\n",
    "writer = csv.writer(fp)\n",
    "writer.writerow([\"Filepath\", \"Gender\"])\n",
    "for file in os.listdir(dir_path):\n",
    "    if file.lower().endswith(\".jpg\"):\n",
    "        gender = predict_gender(os.path.join(dir_path, file))\n",
    "        writer.writerow([file, gender])\n",
    "fp.close()"
   ]
  },
  {
   "cell_type": "code",
   "execution_count": null,
   "id": "4bba0cb8-d9ae-43ce-87d8-e5930013014d",
   "metadata": {},
   "outputs": [],
   "source": []
  }
 ],
 "metadata": {
  "kernelspec": {
   "display_name": "Python 3 (ipykernel)",
   "language": "python",
   "name": "python3"
  },
  "language_info": {
   "codemirror_mode": {
    "name": "ipython",
    "version": 3
   },
   "file_extension": ".py",
   "mimetype": "text/x-python",
   "name": "python",
   "nbconvert_exporter": "python",
   "pygments_lexer": "ipython3",
   "version": "3.8.16"
  }
 },
 "nbformat": 4,
 "nbformat_minor": 5
}
